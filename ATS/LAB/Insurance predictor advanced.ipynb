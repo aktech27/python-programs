{
 "cells": [
  {
   "cell_type": "code",
   "execution_count": 1,
   "metadata": {},
   "outputs": [
    {
     "name": "stderr",
     "output_type": "stream",
     "text": [
      "c:\\users\\sys\\appdata\\local\\programs\\python\\python37-32\\lib\\site-packages\\sklearn\\externals\\joblib\\__init__.py:15: FutureWarning: sklearn.externals.joblib is deprecated in 0.21 and will be removed in 0.23. Please import this functionality directly from joblib, which can be installed with: pip install joblib. If this warning is raised when loading pickled models, you may need to re-serialize those models with scikit-learn 0.21+.\n",
      "  warnings.warn(msg, category=FutureWarning)\n"
     ]
    }
   ],
   "source": [
    "from sklearn.externals import joblib    "
   ]
  },
  {
   "cell_type": "code",
   "execution_count": 2,
   "metadata": {},
   "outputs": [],
   "source": [
    "j=joblib.load('ins_predict2')"
   ]
  },
  {
   "cell_type": "code",
   "execution_count": 3,
   "metadata": {},
   "outputs": [
    {
     "name": "stdout",
     "output_type": "stream",
     "text": [
      "What is your age?60\n",
      "What is your bmi?36.007\n",
      "How many children?0\n",
      "Are you a smoker?no\n",
      "Gender:female\n"
     ]
    }
   ],
   "source": [
    "age=int(input('What is your age?'))\n",
    "bmi=float(input('What is your bmi?'))\n",
    "child=int(input('How many children?'))\n",
    "smoking=input('Are you a smoker?')\n",
    "gender=input('Gender:')\n",
    "if(smoking=='yes' or smoking=='y' or smoking=='Yes'):\n",
    "    smoking=1\n",
    "else:\n",
    "    smoking=0\n",
    "if(gender=='female' or gender=='Female' or gender=='f'):\n",
    "    gender=1\n",
    "else:\n",
    "    gender=0\n",
    "    "
   ]
  },
  {
   "cell_type": "code",
   "execution_count": 4,
   "metadata": {},
   "outputs": [
    {
     "name": "stdout",
     "output_type": "stream",
     "text": [
      "Your expected insurance is: Rs.15019.01\n"
     ]
    }
   ],
   "source": [
    "ins=j.predict([[age,gender,bmi,child,smoking]])\n",
    "print(\"Your expected insurance is: Rs.%.2f\"%(ins))"
   ]
  },
  {
   "cell_type": "code",
   "execution_count": null,
   "metadata": {},
   "outputs": [],
   "source": []
  },
  {
   "cell_type": "code",
   "execution_count": null,
   "metadata": {},
   "outputs": [],
   "source": []
  }
 ],
 "metadata": {
  "kernelspec": {
   "display_name": "Python 3",
   "language": "python",
   "name": "python3"
  },
  "language_info": {
   "codemirror_mode": {
    "name": "ipython",
    "version": 3
   },
   "file_extension": ".py",
   "mimetype": "text/x-python",
   "name": "python",
   "nbconvert_exporter": "python",
   "pygments_lexer": "ipython3",
   "version": "3.7.5"
  }
 },
 "nbformat": 4,
 "nbformat_minor": 4
}
