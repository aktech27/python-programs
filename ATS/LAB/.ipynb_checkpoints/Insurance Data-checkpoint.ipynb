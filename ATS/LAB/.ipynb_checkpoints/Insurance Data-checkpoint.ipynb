{
 "cells": [
  {
   "cell_type": "code",
   "execution_count": 109,
   "metadata": {},
   "outputs": [],
   "source": [
    "import pandas as pd\n",
    "import matplotlib.pyplot as plt\n",
    "import numpy as np\n",
    "from sklearn.linear_model import LinearRegression\n",
    "from sklearn.linear_model import LogisticRegression\n",
    "from sklearn.model_selection import train_test_split\n",
    "from sklearn.externals import joblib"
   ]
  },
  {
   "cell_type": "code",
   "execution_count": 88,
   "metadata": {},
   "outputs": [
    {
     "data": {
      "text/html": [
       "<div>\n",
       "<style scoped>\n",
       "    .dataframe tbody tr th:only-of-type {\n",
       "        vertical-align: middle;\n",
       "    }\n",
       "\n",
       "    .dataframe tbody tr th {\n",
       "        vertical-align: top;\n",
       "    }\n",
       "\n",
       "    .dataframe thead th {\n",
       "        text-align: right;\n",
       "    }\n",
       "</style>\n",
       "<table border=\"1\" class=\"dataframe\">\n",
       "  <thead>\n",
       "    <tr style=\"text-align: right;\">\n",
       "      <th></th>\n",
       "      <th>age</th>\n",
       "      <th>sex</th>\n",
       "      <th>bmi</th>\n",
       "      <th>children</th>\n",
       "      <th>smoker</th>\n",
       "      <th>region</th>\n",
       "      <th>charges</th>\n",
       "    </tr>\n",
       "  </thead>\n",
       "  <tbody>\n",
       "    <tr>\n",
       "      <th>0</th>\n",
       "      <td>19</td>\n",
       "      <td>female</td>\n",
       "      <td>27.900</td>\n",
       "      <td>0</td>\n",
       "      <td>yes</td>\n",
       "      <td>southwest</td>\n",
       "      <td>16884.92400</td>\n",
       "    </tr>\n",
       "    <tr>\n",
       "      <th>1</th>\n",
       "      <td>18</td>\n",
       "      <td>male</td>\n",
       "      <td>33.770</td>\n",
       "      <td>1</td>\n",
       "      <td>no</td>\n",
       "      <td>southeast</td>\n",
       "      <td>1725.55230</td>\n",
       "    </tr>\n",
       "    <tr>\n",
       "      <th>2</th>\n",
       "      <td>28</td>\n",
       "      <td>male</td>\n",
       "      <td>33.000</td>\n",
       "      <td>3</td>\n",
       "      <td>no</td>\n",
       "      <td>southeast</td>\n",
       "      <td>4449.46200</td>\n",
       "    </tr>\n",
       "    <tr>\n",
       "      <th>3</th>\n",
       "      <td>33</td>\n",
       "      <td>male</td>\n",
       "      <td>22.705</td>\n",
       "      <td>0</td>\n",
       "      <td>no</td>\n",
       "      <td>northwest</td>\n",
       "      <td>21984.47061</td>\n",
       "    </tr>\n",
       "    <tr>\n",
       "      <th>4</th>\n",
       "      <td>32</td>\n",
       "      <td>male</td>\n",
       "      <td>28.880</td>\n",
       "      <td>0</td>\n",
       "      <td>no</td>\n",
       "      <td>northwest</td>\n",
       "      <td>3866.85520</td>\n",
       "    </tr>\n",
       "    <tr>\n",
       "      <th>...</th>\n",
       "      <td>...</td>\n",
       "      <td>...</td>\n",
       "      <td>...</td>\n",
       "      <td>...</td>\n",
       "      <td>...</td>\n",
       "      <td>...</td>\n",
       "      <td>...</td>\n",
       "    </tr>\n",
       "    <tr>\n",
       "      <th>1333</th>\n",
       "      <td>50</td>\n",
       "      <td>male</td>\n",
       "      <td>30.970</td>\n",
       "      <td>3</td>\n",
       "      <td>no</td>\n",
       "      <td>northwest</td>\n",
       "      <td>10600.54830</td>\n",
       "    </tr>\n",
       "    <tr>\n",
       "      <th>1334</th>\n",
       "      <td>18</td>\n",
       "      <td>female</td>\n",
       "      <td>31.920</td>\n",
       "      <td>0</td>\n",
       "      <td>no</td>\n",
       "      <td>northeast</td>\n",
       "      <td>2205.98080</td>\n",
       "    </tr>\n",
       "    <tr>\n",
       "      <th>1335</th>\n",
       "      <td>18</td>\n",
       "      <td>female</td>\n",
       "      <td>36.850</td>\n",
       "      <td>0</td>\n",
       "      <td>no</td>\n",
       "      <td>southeast</td>\n",
       "      <td>1629.83350</td>\n",
       "    </tr>\n",
       "    <tr>\n",
       "      <th>1336</th>\n",
       "      <td>21</td>\n",
       "      <td>female</td>\n",
       "      <td>25.800</td>\n",
       "      <td>0</td>\n",
       "      <td>no</td>\n",
       "      <td>southwest</td>\n",
       "      <td>2007.94500</td>\n",
       "    </tr>\n",
       "    <tr>\n",
       "      <th>1337</th>\n",
       "      <td>61</td>\n",
       "      <td>female</td>\n",
       "      <td>29.070</td>\n",
       "      <td>0</td>\n",
       "      <td>yes</td>\n",
       "      <td>northwest</td>\n",
       "      <td>29141.36030</td>\n",
       "    </tr>\n",
       "  </tbody>\n",
       "</table>\n",
       "<p>1338 rows × 7 columns</p>\n",
       "</div>"
      ],
      "text/plain": [
       "      age     sex     bmi  children smoker     region      charges\n",
       "0      19  female  27.900         0    yes  southwest  16884.92400\n",
       "1      18    male  33.770         1     no  southeast   1725.55230\n",
       "2      28    male  33.000         3     no  southeast   4449.46200\n",
       "3      33    male  22.705         0     no  northwest  21984.47061\n",
       "4      32    male  28.880         0     no  northwest   3866.85520\n",
       "...   ...     ...     ...       ...    ...        ...          ...\n",
       "1333   50    male  30.970         3     no  northwest  10600.54830\n",
       "1334   18  female  31.920         0     no  northeast   2205.98080\n",
       "1335   18  female  36.850         0     no  southeast   1629.83350\n",
       "1336   21  female  25.800         0     no  southwest   2007.94500\n",
       "1337   61  female  29.070         0    yes  northwest  29141.36030\n",
       "\n",
       "[1338 rows x 7 columns]"
      ]
     },
     "execution_count": 88,
     "metadata": {},
     "output_type": "execute_result"
    }
   ],
   "source": [
    "insdata=pd.read_csv(\"insurance.csv\")\n",
    "insdata"
   ]
  },
  {
   "cell_type": "code",
   "execution_count": 7,
   "metadata": {},
   "outputs": [],
   "source": [
    "reg=LinearRegression()"
   ]
  },
  {
   "cell_type": "code",
   "execution_count": 16,
   "metadata": {},
   "outputs": [
    {
     "data": {
      "text/plain": [
       "LinearRegression(copy_X=True, fit_intercept=True, n_jobs=None, normalize=False)"
      ]
     },
     "execution_count": 16,
     "metadata": {},
     "output_type": "execute_result"
    }
   ],
   "source": [
    "reg.fit(insdata[['age','bmi','children']],insdata['charges'])"
   ]
  },
  {
   "cell_type": "code",
   "execution_count": 19,
   "metadata": {},
   "outputs": [],
   "source": [
    "xtr,xts,ytr,yts=train_test_split(insdata[['age','bmi','children']],insdata['charges'],test_size=0.3,random_state=False)"
   ]
  },
  {
   "cell_type": "code",
   "execution_count": 23,
   "metadata": {},
   "outputs": [
    {
     "data": {
      "text/plain": [
       "578      9724.53000\n",
       "610      8547.69130\n",
       "569     45702.02235\n",
       "1034    12950.07120\n",
       "198      9644.25250\n",
       "           ...     \n",
       "1261     3277.16100\n",
       "494     17942.10600\n",
       "97      10226.28420\n",
       "418     14418.28040\n",
       "920     13451.12200\n",
       "Name: charges, Length: 402, dtype: float64"
      ]
     },
     "execution_count": 23,
     "metadata": {},
     "output_type": "execute_result"
    }
   ],
   "source": [
    "yts"
   ]
  },
  {
   "cell_type": "code",
   "execution_count": 38,
   "metadata": {},
   "outputs": [
    {
     "data": {
      "image/png": "[encoded data removed]",
      "text/plain": [
       "<Figure size 432x288 with 1 Axes>"
      ]
     },
     "metadata": {
      "needs_background": "light"
     },
     "output_type": "display_data"
    }
   ],
   "source": [
    "plt.scatter(xts['age'],yts,marker='.')\n",
    "plt.show()"
   ]
  },
  {
   "cell_type": "code",
   "execution_count": 29,
   "metadata": {},
   "outputs": [
    {
     "data": {
      "image/png": "[encoded data removed]",
      "text/plain": [
       "<Figure size 432x288 with 1 Axes>"
      ]
     },
     "metadata": {
      "needs_background": "light"
     },
     "output_type": "display_data"
    }
   ],
   "source": [
    "plt.scatter(xts['bmi'],yts,marker='.')\n",
    "plt.show()"
   ]
  },
  {
   "cell_type": "code",
   "execution_count": 40,
   "metadata": {},
   "outputs": [
    {
     "data": {
      "image/png": "[encoded data removed]",
      "text/plain": [
       "<Figure size 432x288 with 1 Axes>"
      ]
     },
     "metadata": {
      "needs_background": "light"
     },
     "output_type": "display_data"
    }
   ],
   "source": [
    "plt.bar(xts['children'],yts)\n",
    "plt.show()"
   ]
  },
  {
   "cell_type": "code",
   "execution_count": 62,
   "metadata": {},
   "outputs": [
    {
     "name": "stdout",
     "output_type": "stream",
     "text": [
      "What is your age?20\n",
      "What is your bmi?29.9\n",
      "How many children?1\n"
     ]
    }
   ],
   "source": [
    "age=int(input('What is your age?'))\n",
    "bmi=float(input('What is your bmi?'))\n",
    "child=int(input('How many children?'))"
   ]
  },
  {
   "cell_type": "code",
   "execution_count": 67,
   "metadata": {},
   "outputs": [
    {
     "name": "stdout",
     "output_type": "stream",
     "text": [
      "Your insurance premium is:Rs.8355.80\n"
     ]
    }
   ],
   "source": [
    "ins=reg.predict([[age,bmi,child]])\n",
    "print(\"Your insurance premium is:Rs.%.2f\"%(ins))"
   ]
  },
  {
   "cell_type": "code",
   "execution_count": 76,
   "metadata": {},
   "outputs": [
    {
     "data": {
      "text/plain": [
       "['ins_data']"
      ]
     },
     "execution_count": 76,
     "metadata": {},
     "output_type": "execute_result"
    }
   ],
   "source": [
    "joblib.dump(reg,\"ins_predict\")\n",
    "joblib.dump(xtr,\"ins_data\")\n",
    "joblib.dump(xts,\"ins_data\")\n",
    "joblib.dump(ytr,\"ins_data\")\n",
    "joblib.dump(yts,\"ins_data\")"
   ]
  },
  {
   "cell_type": "code",
   "execution_count": 77,
   "metadata": {},
   "outputs": [
    {
     "data": {
      "text/plain": [
       "array([15773.10883603, 14442.0164168 , 18422.47773096, 19490.26947957,\n",
       "       11521.19155525,  8742.74416429,  6642.38928404, 18470.70704121,\n",
       "       13868.04620885, 12577.84319334,  9805.50251003, 14783.0202251 ,\n",
       "       13716.53350148,  9357.97589251,  9234.77037472, 15913.74129551,\n",
       "       15274.7219901 , 10729.16450269, 13018.72975307,  8322.61598288,\n",
       "       14597.00159596, 18257.49888067, 15385.69389415, 13424.99418059,\n",
       "        9637.5851769 , 13420.54243777,  6267.39401418, 15099.16251265,\n",
       "        9326.38228943, 14903.00917723, 13874.05757424, 20416.00622475,\n",
       "       19430.74080346, 17869.08182131,  6309.37822964,  9729.84993897,\n",
       "       17303.63902592, 12278.63754222, 14455.92519383,  9065.92211141,\n",
       "        8748.75552968,  9513.65894216, 11269.09557795, 19586.68042895,\n",
       "        9636.93232954, 10267.28583523, 15819.9397573 , 12478.47423239,\n",
       "        8607.91285697, 15100.25930265, 10167.86920315,  9058.32696848,\n",
       "       14271.63137736, 18659.73135306, 19836.56128833, 11425.05738016,\n",
       "       10982.72673856, 13678.46372218, 14788.65816541, 15854.00371469,\n",
       "        7539.35205056, 19313.87374446, 19511.09904519, 16511.2425048 ,\n",
       "       18176.86057786, 18197.57326331,  7979.93503305, 13522.96475255,\n",
       "        7200.25978294, 15074.41918059, 16596.63414941, 16225.87776114,\n",
       "        7360.43959855, 19493.4383741 , 15193.71157074, 16192.84007619,\n",
       "       11634.07433024, 14739.40389124, 11167.27910914, 19478.31726636,\n",
       "       15667.75135613, 17770.47927017,  9165.735015  , 14239.87456243,\n",
       "       15154.82375399, 11016.97742395, 13546.05311977,  9744.83068131,\n",
       "       16538.87597884, 11824.75095893, 14525.09894069, 15765.65338878,\n",
       "       12442.17231064, 14145.49069444, 12523.23040114, 11773.33057743,\n",
       "       15988.78735088, 14600.12281936, 12484.62398492, 18940.8565454 ,\n",
       "        9512.67967113, 13297.54780295, 11891.47917618, 12891.65680051,\n",
       "       14204.11061708,  7236.51336381, 13767.55958972, 11236.03306831,\n",
       "       17834.04057114, 17685.13727495, 14888.2621643 , 15518.79841055,\n",
       "       14521.76881258,  8181.58725189, 20259.34390406, 13003.74901073,\n",
       "        6433.2117701 , 13732.47066842, 19267.64799942, 14351.15071345,\n",
       "       16600.47675949, 11821.23544227, 20522.57603537, 14168.04242474,\n",
       "       13253.37396399,  8482.09859773, 13519.63462443, 12742.73132761,\n",
       "       19703.29158183, 10296.87520336, 14489.26645602,  9340.73303085,\n",
       "       12845.92136072, 12763.35131879, 12946.64301779, 11421.77294491,\n",
       "       11423.07863963, 14021.23803602, 13911.453638  ,  8613.87655123,\n",
       "        8673.66113345, 15124.67621103, 17773.13635248, 16363.83029187,\n",
       "       10429.16828681, 19462.33440654, 19102.78468985,  8005.00545851,\n",
       "        5565.25604192, 14863.84458619, 11872.37509296, 13109.05814977,\n",
       "       16150.99424788,  8277.64893116, 11221.19071312, 13033.85086081,\n",
       "        9528.98895462,  8090.04585475, 15902.37141209, 16892.48286946,\n",
       "       12133.76489263, 20149.88592971, 15706.77756003, 18254.42268041,\n",
       "        8061.6459709 , 12352.98441857,  5549.62245222, 12415.82235462,\n",
       "       10231.12692688, 10481.1461734 , 11716.50400677, 10180.31172161,\n",
       "       14518.94918816, 10669.72852086, 11484.26030232, 12580.54529879,\n",
       "        8911.14848496, 10552.21059276, 18359.73513717,  6588.3823378 ,\n",
       "       16787.28860139, 13838.03705304, 17371.9758454 , 10701.48533578,\n",
       "       10198.34581778, 16387.87575343,  9057.72112252,  7902.93241385,\n",
       "       18608.17191468, 16589.24724147, 15217.66169004, 10577.9312176 ,\n",
       "       11046.31088597, 12674.74508677, 10821.96392343,  7810.20284096,\n",
       "       12961.71712413, 14501.10115027, 13329.93264054, 10717.18944305,\n",
       "       16808.09465085, 18868.25799789, 17741.42720869, 11109.70699685,\n",
       "       11749.51884528, 16505.65025737,  8956.13838311, 16302.39074481,\n",
       "       14237.66011425, 11387.89437607, 15493.89384491, 17819.0598288 ,\n",
       "       10570.56913435,  9751.44722293, 12965.79477214,  7128.00983581,\n",
       "       12673.88202617,  9319.02020618, 17791.24096621,  9397.25867225,\n",
       "       15206.19713409, 12115.82613873, 13948.1720297 ,  7365.51936403,\n",
       "       17332.34446528, 20012.35251694, 19306.37062608, 15086.79249001,\n",
       "       11284.24020187,  8012.18148349,  7729.63438599, 17081.08739362,\n",
       "       18148.29681244, 10390.70025774,  9530.62107302, 14511.51658734,\n",
       "       14089.71324265,  9306.76374599, 12088.40287792, 14738.03032695,\n",
       "       11388.31614201, 11464.64175888, 15904.32730618, 11767.1808249 ,\n",
       "       14936.21007402, 16265.01950575,  8296.03229745, 15046.80986151,\n",
       "        6627.40854169, 11584.35393672, 10437.04285201, 19330.2528758 ,\n",
       "       11794.50874344, 13250.27293903,  7452.49347765,  5697.26772483,\n",
       "       15234.7393616 ,  9636.93232954, 10600.76434844,  8310.38501713,\n",
       "       12598.60421965, 14595.99947848, 17900.07024816, 18626.5781274 ,\n",
       "       12853.51717338, 19154.20507134, 14628.52270321, 14081.11598225,\n",
       "       15334.01562828,  8949.05438268, 11839.4986416 , 13392.95663486,\n",
       "       17711.2319946 ,  9469.2043724 , 13689.80878091, 12697.46002891,\n",
       "       15739.74472741, 14882.7861273 ,  9387.96022363, 17099.00594907,\n",
       "       15646.7592484 , 12847.27207858, 16786.91648484,  7722.52820885,\n",
       "       14653.73282435, 11290.31943684, 16413.89864698, 12400.46949572,\n",
       "       14719.99358279,  6399.35802595,  6399.77781364, 19502.47826862,\n",
       "       13876.69114038, 11878.33878722, 17957.45499365, 17054.13159163,\n",
       "        9182.95305197, 12348.81538481, 12134.81401151, 16461.242689  ,\n",
       "        8076.57904211,  9607.66938508,  6960.88705491,  8168.84380418,\n",
       "       17304.57260409,  8148.62008452, 10436.22679281, 14630.97088081,\n",
       "       16060.78072216,  5319.21910114, 12539.05071885, 15242.98604336,\n",
       "        5973.31382142,  8049.57556899, 15831.4245117 , 12391.05550639,\n",
       "       12427.28691056,  6511.89220056, 12037.2155561 , 15928.72136812,\n",
       "       11026.38876529, 10921.19449723,  5781.28382688, 15207.38661837,\n",
       "       11671.09432093, 14396.0720723 , 19424.79995563,  9484.23278587,\n",
       "       15442.89258136, 16615.27144355, 18611.54971393, 11857.53273777,\n",
       "       15505.75336385, 12541.00661293, 16843.92911378, 11219.04876075,\n",
       "       14845.67210287,  6953.22072468,  6541.80799237,  7233.50768112,\n",
       "       15920.07908458, 15643.65822344,  7200.49284261, 12988.43919672,\n",
       "       12311.90895658, 10552.30328703, 18823.38431018,  8022.57209587,\n",
       "       14153.10935353,  8290.02093206, 17916.3553767 ,  7122.06898799,\n",
       "       15800.85587253, 12502.35450385, 16522.8454479 , 12214.2648083 ,\n",
       "       11833.34888906, 11311.21818056, 12158.04341387, 15521.68922226,\n",
       "        7293.47832162,  7984.08319862,  9235.14249127, 16736.05360844,\n",
       "       17930.28830869, 14441.38839414,  6402.36370865, 15163.70241493,\n",
       "        9972.83352592, 14484.90938574, 10387.13640021, 12170.38992033,\n",
       "        9779.7792372 ,  9885.81174117,  9481.27477431,  5071.92413678,\n",
       "       14440.38429841, 17132.29954013, 17051.31196721, 14546.7230276 ,\n",
       "       12421.41393232,  5577.2787727 ,  7836.55346672, 16312.26954497,\n",
       "       11168.37392089,  8235.59419813, 15937.97214561, 13239.86014995,\n",
       "       12065.47705281, 10417.33161431,  8250.62261161, 13693.93212179,\n",
       "        8703.67028926, 13448.22358294, 10012.13848237, 16745.02298539,\n",
       "       18741.88358556, 12477.61050206,  9441.80462776, 18147.64396508,\n",
       "       20948.36433379, 15906.07694354])"
      ]
     },
     "execution_count": 77,
     "metadata": {},
     "output_type": "execute_result"
    }
   ],
   "source": [
    "reg.fit(xtr,ytr)\n",
    "reg.predict(xts)"
   ]
  },
  {
   "cell_type": "code",
   "execution_count": 79,
   "metadata": {},
   "outputs": [
    {
     "data": {
      "text/plain": [
       "0.1497412806492575"
      ]
     },
     "execution_count": 79,
     "metadata": {},
     "output_type": "execute_result"
    }
   ],
   "source": [
    "reg.score(xts,yts)"
   ]
  },
  {
   "cell_type": "code",
   "execution_count": null,
   "metadata": {},
   "outputs": [],
   "source": []
  },
  {
   "cell_type": "code",
   "execution_count": null,
   "metadata": {},
   "outputs": [],
   "source": []
  },
  {
   "cell_type": "code",
   "execution_count": 61,
   "metadata": {},
   "outputs": [
    {
     "name": "stdout",
     "output_type": "stream",
     "text": [
      "0       yes\n",
      "1        no\n",
      "2        no\n",
      "3        no\n",
      "4        no\n",
      "       ... \n",
      "1333     no\n",
      "1334     no\n",
      "1335     no\n",
      "1336     no\n",
      "1337    yes\n",
      "Name: smoker, Length: 1338, dtype: object\n"
     ]
    },
    {
     "data": {
      "text/plain": [
       "0       yes\n",
       "1        no\n",
       "2        no\n",
       "3        no\n",
       "4        no\n",
       "       ... \n",
       "1333     no\n",
       "1334     no\n",
       "1335     no\n",
       "1336     no\n",
       "1337    yes\n",
       "Name: smoker, Length: 1338, dtype: object"
      ]
     },
     "execution_count": 61,
     "metadata": {},
     "output_type": "execute_result"
    }
   ],
   "source": [
    "print(insdata.smoker[:])\n",
    "insdata.smoker.fillna(0)"
   ]
  },
  {
   "cell_type": "code",
   "execution_count": 90,
   "metadata": {},
   "outputs": [
    {
     "name": "stderr",
     "output_type": "stream",
     "text": [
      "c:\\users\\sys\\appdata\\local\\programs\\python\\python37-32\\lib\\site-packages\\ipykernel_launcher.py:3: SettingWithCopyWarning: \n",
      "A value is trying to be set on a copy of a slice from a DataFrame\n",
      "\n",
      "See the caveats in the documentation: http://pandas.pydata.org/pandas-docs/stable/user_guide/indexing.html#returning-a-view-versus-a-copy\n",
      "  This is separate from the ipykernel package so we can avoid doing imports until\n",
      "c:\\users\\sys\\appdata\\local\\programs\\python\\python37-32\\lib\\site-packages\\ipykernel_launcher.py:5: SettingWithCopyWarning: \n",
      "A value is trying to be set on a copy of a slice from a DataFrame\n",
      "\n",
      "See the caveats in the documentation: http://pandas.pydata.org/pandas-docs/stable/user_guide/indexing.html#returning-a-view-versus-a-copy\n",
      "  \"\"\"\n"
     ]
    }
   ],
   "source": [
    "for i in range(0,len(insdata.smoker)):\n",
    "    if(insdata.smoker[i]=='yes'):\n",
    "        insdata.smoker[i]=1\n",
    "    else:\n",
    "        insdata.smoker[i]=0"
   ]
  },
  {
   "cell_type": "code",
   "execution_count": 91,
   "metadata": {},
   "outputs": [
    {
     "data": {
      "text/html": [
       "<div>\n",
       "<style scoped>\n",
       "    .dataframe tbody tr th:only-of-type {\n",
       "        vertical-align: middle;\n",
       "    }\n",
       "\n",
       "    .dataframe tbody tr th {\n",
       "        vertical-align: top;\n",
       "    }\n",
       "\n",
       "    .dataframe thead th {\n",
       "        text-align: right;\n",
       "    }\n",
       "</style>\n",
       "<table border=\"1\" class=\"dataframe\">\n",
       "  <thead>\n",
       "    <tr style=\"text-align: right;\">\n",
       "      <th></th>\n",
       "      <th>age</th>\n",
       "      <th>sex</th>\n",
       "      <th>bmi</th>\n",
       "      <th>children</th>\n",
       "      <th>smoker</th>\n",
       "      <th>region</th>\n",
       "      <th>charges</th>\n",
       "    </tr>\n",
       "  </thead>\n",
       "  <tbody>\n",
       "    <tr>\n",
       "      <th>0</th>\n",
       "      <td>19</td>\n",
       "      <td>female</td>\n",
       "      <td>27.900</td>\n",
       "      <td>0</td>\n",
       "      <td>1</td>\n",
       "      <td>southwest</td>\n",
       "      <td>16884.92400</td>\n",
       "    </tr>\n",
       "    <tr>\n",
       "      <th>1</th>\n",
       "      <td>18</td>\n",
       "      <td>male</td>\n",
       "      <td>33.770</td>\n",
       "      <td>1</td>\n",
       "      <td>0</td>\n",
       "      <td>southeast</td>\n",
       "      <td>1725.55230</td>\n",
       "    </tr>\n",
       "    <tr>\n",
       "      <th>2</th>\n",
       "      <td>28</td>\n",
       "      <td>male</td>\n",
       "      <td>33.000</td>\n",
       "      <td>3</td>\n",
       "      <td>0</td>\n",
       "      <td>southeast</td>\n",
       "      <td>4449.46200</td>\n",
       "    </tr>\n",
       "    <tr>\n",
       "      <th>3</th>\n",
       "      <td>33</td>\n",
       "      <td>male</td>\n",
       "      <td>22.705</td>\n",
       "      <td>0</td>\n",
       "      <td>0</td>\n",
       "      <td>northwest</td>\n",
       "      <td>21984.47061</td>\n",
       "    </tr>\n",
       "    <tr>\n",
       "      <th>4</th>\n",
       "      <td>32</td>\n",
       "      <td>male</td>\n",
       "      <td>28.880</td>\n",
       "      <td>0</td>\n",
       "      <td>0</td>\n",
       "      <td>northwest</td>\n",
       "      <td>3866.85520</td>\n",
       "    </tr>\n",
       "    <tr>\n",
       "      <th>...</th>\n",
       "      <td>...</td>\n",
       "      <td>...</td>\n",
       "      <td>...</td>\n",
       "      <td>...</td>\n",
       "      <td>...</td>\n",
       "      <td>...</td>\n",
       "      <td>...</td>\n",
       "    </tr>\n",
       "    <tr>\n",
       "      <th>1333</th>\n",
       "      <td>50</td>\n",
       "      <td>male</td>\n",
       "      <td>30.970</td>\n",
       "      <td>3</td>\n",
       "      <td>0</td>\n",
       "      <td>northwest</td>\n",
       "      <td>10600.54830</td>\n",
       "    </tr>\n",
       "    <tr>\n",
       "      <th>1334</th>\n",
       "      <td>18</td>\n",
       "      <td>female</td>\n",
       "      <td>31.920</td>\n",
       "      <td>0</td>\n",
       "      <td>0</td>\n",
       "      <td>northeast</td>\n",
       "      <td>2205.98080</td>\n",
       "    </tr>\n",
       "    <tr>\n",
       "      <th>1335</th>\n",
       "      <td>18</td>\n",
       "      <td>female</td>\n",
       "      <td>36.850</td>\n",
       "      <td>0</td>\n",
       "      <td>0</td>\n",
       "      <td>southeast</td>\n",
       "      <td>1629.83350</td>\n",
       "    </tr>\n",
       "    <tr>\n",
       "      <th>1336</th>\n",
       "      <td>21</td>\n",
       "      <td>female</td>\n",
       "      <td>25.800</td>\n",
       "      <td>0</td>\n",
       "      <td>0</td>\n",
       "      <td>southwest</td>\n",
       "      <td>2007.94500</td>\n",
       "    </tr>\n",
       "    <tr>\n",
       "      <th>1337</th>\n",
       "      <td>61</td>\n",
       "      <td>female</td>\n",
       "      <td>29.070</td>\n",
       "      <td>0</td>\n",
       "      <td>1</td>\n",
       "      <td>northwest</td>\n",
       "      <td>29141.36030</td>\n",
       "    </tr>\n",
       "  </tbody>\n",
       "</table>\n",
       "<p>1338 rows × 7 columns</p>\n",
       "</div>"
      ],
      "text/plain": [
       "      age     sex     bmi  children smoker     region      charges\n",
       "0      19  female  27.900         0      1  southwest  16884.92400\n",
       "1      18    male  33.770         1      0  southeast   1725.55230\n",
       "2      28    male  33.000         3      0  southeast   4449.46200\n",
       "3      33    male  22.705         0      0  northwest  21984.47061\n",
       "4      32    male  28.880         0      0  northwest   3866.85520\n",
       "...   ...     ...     ...       ...    ...        ...          ...\n",
       "1333   50    male  30.970         3      0  northwest  10600.54830\n",
       "1334   18  female  31.920         0      0  northeast   2205.98080\n",
       "1335   18  female  36.850         0      0  southeast   1629.83350\n",
       "1336   21  female  25.800         0      0  southwest   2007.94500\n",
       "1337   61  female  29.070         0      1  northwest  29141.36030\n",
       "\n",
       "[1338 rows x 7 columns]"
      ]
     },
     "execution_count": 91,
     "metadata": {},
     "output_type": "execute_result"
    }
   ],
   "source": [
    "insdata"
   ]
  },
  {
   "cell_type": "code",
   "execution_count": 92,
   "metadata": {},
   "outputs": [
    {
     "name": "stderr",
     "output_type": "stream",
     "text": [
      "c:\\users\\sys\\appdata\\local\\programs\\python\\python37-32\\lib\\site-packages\\ipykernel_launcher.py:3: SettingWithCopyWarning: \n",
      "A value is trying to be set on a copy of a slice from a DataFrame\n",
      "\n",
      "See the caveats in the documentation: http://pandas.pydata.org/pandas-docs/stable/user_guide/indexing.html#returning-a-view-versus-a-copy\n",
      "  This is separate from the ipykernel package so we can avoid doing imports until\n",
      "c:\\users\\sys\\appdata\\local\\programs\\python\\python37-32\\lib\\site-packages\\ipykernel_launcher.py:5: SettingWithCopyWarning: \n",
      "A value is trying to be set on a copy of a slice from a DataFrame\n",
      "\n",
      "See the caveats in the documentation: http://pandas.pydata.org/pandas-docs/stable/user_guide/indexing.html#returning-a-view-versus-a-copy\n",
      "  \"\"\"\n"
     ]
    }
   ],
   "source": [
    "for i in range(0,len(insdata.sex)):\n",
    "    if(insdata.sex[i]=='female'):\n",
    "        insdata.sex[i]=1\n",
    "    else:\n",
    "        insdata.sex[i]=0"
   ]
  },
  {
   "cell_type": "code",
   "execution_count": 94,
   "metadata": {},
   "outputs": [
    {
     "data": {
      "text/html": [
       "<div>\n",
       "<style scoped>\n",
       "    .dataframe tbody tr th:only-of-type {\n",
       "        vertical-align: middle;\n",
       "    }\n",
       "\n",
       "    .dataframe tbody tr th {\n",
       "        vertical-align: top;\n",
       "    }\n",
       "\n",
       "    .dataframe thead th {\n",
       "        text-align: right;\n",
       "    }\n",
       "</style>\n",
       "<table border=\"1\" class=\"dataframe\">\n",
       "  <thead>\n",
       "    <tr style=\"text-align: right;\">\n",
       "      <th></th>\n",
       "      <th>age</th>\n",
       "      <th>sex</th>\n",
       "      <th>bmi</th>\n",
       "      <th>children</th>\n",
       "      <th>smoker</th>\n",
       "      <th>region</th>\n",
       "      <th>charges</th>\n",
       "    </tr>\n",
       "  </thead>\n",
       "  <tbody>\n",
       "    <tr>\n",
       "      <th>0</th>\n",
       "      <td>19</td>\n",
       "      <td>1</td>\n",
       "      <td>27.900</td>\n",
       "      <td>0</td>\n",
       "      <td>1</td>\n",
       "      <td>southwest</td>\n",
       "      <td>16884.92400</td>\n",
       "    </tr>\n",
       "    <tr>\n",
       "      <th>1</th>\n",
       "      <td>18</td>\n",
       "      <td>0</td>\n",
       "      <td>33.770</td>\n",
       "      <td>1</td>\n",
       "      <td>0</td>\n",
       "      <td>southeast</td>\n",
       "      <td>1725.55230</td>\n",
       "    </tr>\n",
       "    <tr>\n",
       "      <th>2</th>\n",
       "      <td>28</td>\n",
       "      <td>0</td>\n",
       "      <td>33.000</td>\n",
       "      <td>3</td>\n",
       "      <td>0</td>\n",
       "      <td>southeast</td>\n",
       "      <td>4449.46200</td>\n",
       "    </tr>\n",
       "    <tr>\n",
       "      <th>3</th>\n",
       "      <td>33</td>\n",
       "      <td>0</td>\n",
       "      <td>22.705</td>\n",
       "      <td>0</td>\n",
       "      <td>0</td>\n",
       "      <td>northwest</td>\n",
       "      <td>21984.47061</td>\n",
       "    </tr>\n",
       "    <tr>\n",
       "      <th>4</th>\n",
       "      <td>32</td>\n",
       "      <td>0</td>\n",
       "      <td>28.880</td>\n",
       "      <td>0</td>\n",
       "      <td>0</td>\n",
       "      <td>northwest</td>\n",
       "      <td>3866.85520</td>\n",
       "    </tr>\n",
       "    <tr>\n",
       "      <th>...</th>\n",
       "      <td>...</td>\n",
       "      <td>...</td>\n",
       "      <td>...</td>\n",
       "      <td>...</td>\n",
       "      <td>...</td>\n",
       "      <td>...</td>\n",
       "      <td>...</td>\n",
       "    </tr>\n",
       "    <tr>\n",
       "      <th>1333</th>\n",
       "      <td>50</td>\n",
       "      <td>0</td>\n",
       "      <td>30.970</td>\n",
       "      <td>3</td>\n",
       "      <td>0</td>\n",
       "      <td>northwest</td>\n",
       "      <td>10600.54830</td>\n",
       "    </tr>\n",
       "    <tr>\n",
       "      <th>1334</th>\n",
       "      <td>18</td>\n",
       "      <td>1</td>\n",
       "      <td>31.920</td>\n",
       "      <td>0</td>\n",
       "      <td>0</td>\n",
       "      <td>northeast</td>\n",
       "      <td>2205.98080</td>\n",
       "    </tr>\n",
       "    <tr>\n",
       "      <th>1335</th>\n",
       "      <td>18</td>\n",
       "      <td>1</td>\n",
       "      <td>36.850</td>\n",
       "      <td>0</td>\n",
       "      <td>0</td>\n",
       "      <td>southeast</td>\n",
       "      <td>1629.83350</td>\n",
       "    </tr>\n",
       "    <tr>\n",
       "      <th>1336</th>\n",
       "      <td>21</td>\n",
       "      <td>1</td>\n",
       "      <td>25.800</td>\n",
       "      <td>0</td>\n",
       "      <td>0</td>\n",
       "      <td>southwest</td>\n",
       "      <td>2007.94500</td>\n",
       "    </tr>\n",
       "    <tr>\n",
       "      <th>1337</th>\n",
       "      <td>61</td>\n",
       "      <td>1</td>\n",
       "      <td>29.070</td>\n",
       "      <td>0</td>\n",
       "      <td>1</td>\n",
       "      <td>northwest</td>\n",
       "      <td>29141.36030</td>\n",
       "    </tr>\n",
       "  </tbody>\n",
       "</table>\n",
       "<p>1338 rows × 7 columns</p>\n",
       "</div>"
      ],
      "text/plain": [
       "      age sex     bmi  children smoker     region      charges\n",
       "0      19   1  27.900         0      1  southwest  16884.92400\n",
       "1      18   0  33.770         1      0  southeast   1725.55230\n",
       "2      28   0  33.000         3      0  southeast   4449.46200\n",
       "3      33   0  22.705         0      0  northwest  21984.47061\n",
       "4      32   0  28.880         0      0  northwest   3866.85520\n",
       "...   ...  ..     ...       ...    ...        ...          ...\n",
       "1333   50   0  30.970         3      0  northwest  10600.54830\n",
       "1334   18   1  31.920         0      0  northeast   2205.98080\n",
       "1335   18   1  36.850         0      0  southeast   1629.83350\n",
       "1336   21   1  25.800         0      0  southwest   2007.94500\n",
       "1337   61   1  29.070         0      1  northwest  29141.36030\n",
       "\n",
       "[1338 rows x 7 columns]"
      ]
     },
     "execution_count": 94,
     "metadata": {},
     "output_type": "execute_result"
    }
   ],
   "source": [
    "insdata"
   ]
  },
  {
   "cell_type": "code",
   "execution_count": 106,
   "metadata": {},
   "outputs": [
    {
     "data": {
      "text/plain": [
       "LinearRegression(copy_X=True, fit_intercept=True, n_jobs=None, normalize=False)"
      ]
     },
     "execution_count": 106,
     "metadata": {},
     "output_type": "execute_result"
    }
   ],
   "source": [
    "reg2=LinearRegression()\n",
    "reg3=LinearRegression()\n",
    "reg3.fit(insdata[['age','sex','bmi','children','smoker']],insdata['charges'])"
   ]
  },
  {
   "cell_type": "code",
   "execution_count": 99,
   "metadata": {},
   "outputs": [
    {
     "data": {
      "text/plain": [
       "array([25661.85689486])"
      ]
     },
     "execution_count": 99,
     "metadata": {},
     "output_type": "execute_result"
    }
   ],
   "source": [
    "reg2.predict([[19,1,27.9,0,1]])"
   ]
  },
  {
   "cell_type": "code",
   "execution_count": 100,
   "metadata": {},
   "outputs": [],
   "source": [
    "xtr,xts,ytr,yts=train_test_split(insdata[['age','sex','bmi','children','smoker']],insdata['charges'],test_size=0.3,random_state=False)"
   ]
  },
  {
   "cell_type": "code",
   "execution_count": 101,
   "metadata": {},
   "outputs": [
    {
     "data": {
      "text/plain": [
       "LinearRegression(copy_X=True, fit_intercept=True, n_jobs=None, normalize=False)"
      ]
     },
     "execution_count": 101,
     "metadata": {},
     "output_type": "execute_result"
    }
   ],
   "source": [
    "reg2.fit(xtr,ytr)"
   ]
  },
  {
   "cell_type": "code",
   "execution_count": 102,
   "metadata": {},
   "outputs": [
    {
     "data": {
      "text/plain": [
       "array([11472.23618644,  9958.50125569, 37657.06917237, 15949.13223617,\n",
       "        6885.72312017,  3528.88810655,  1031.86224676, 14181.1024054 ,\n",
       "        8847.14792524,  7275.30131109,  4216.86216451, 10190.14526672,\n",
       "        9097.46039634,  4255.14691858, 27430.50340855, 11282.58288364,\n",
       "       11177.22736522,  5504.64625133,  8030.81149341, 26327.41490839,\n",
       "       33367.35431038, 14177.00561427, 11261.11883838, 32413.15484705,\n",
       "        4414.81928993,  8606.98618122,   712.30206629, 10258.50678538,\n",
       "        4198.66143865, 10231.92533963,  8874.73800132, 40207.90493832,\n",
       "       15892.29406482, 14055.58336707, 24136.79051345,  4643.98226168,\n",
       "       12953.8618379 , 30694.2595505 , 33135.3543329 ,  3790.06798605,\n",
       "        3598.22643981,  4347.64393443, 29853.09596525, 39076.04912317,\n",
       "       27832.89698787,  4787.97369821, 11176.63306955,  7646.91121556,\n",
       "        3192.01904016, 10805.99433047,  5065.92896438,  3216.91828843,\n",
       "       33153.3686017 , 37813.274525  , 16350.82043262,  6496.18828402,\n",
       "        5975.77104239,  9270.23614952,  9527.79368838, 11646.80849929,\n",
       "        2013.64286192, 38624.78787957, 15408.08854282, 12100.4420692 ,\n",
       "       13591.52763834, 14242.04217029, 25929.95311932, 31761.49314429,\n",
       "        1323.73583741, 10004.08707152, 12722.4892586 , 12035.6438424 ,\n",
       "       25240.62666383, 16015.25996901, 11127.47351024, 12255.99956035,\n",
       "        6919.47669201, 10036.73137746, 29574.317679  , 39169.57567261,\n",
       "       11621.3060311 , 37279.82514958,  3881.85961904,  9667.63149296,\n",
       "       34098.94314645, 29146.87823351,  8728.09953173,  4577.5545564 ,\n",
       "       12409.9787646 , 30387.11371045,  9526.89529843, 11679.73905104,\n",
       "        7655.57818125,  9418.048583  ,  7798.98667454,  6788.19149092,\n",
       "       35350.43837577, 33298.07914773,  7396.48110723, 15276.56416569,\n",
       "        4284.13730876,  8509.66281309,  6695.31760535, 31654.59549627,\n",
       "       32645.2554601 ,  1796.53237431,  9433.27138843,  6324.4316128 ,\n",
       "       14047.20417457, 37318.48371857, 10165.89387993, 10771.46436833,\n",
       "       10058.98250526, 26147.32131203, 40010.1530396 ,  8055.49094151,\n",
       "         589.92238036,  9331.23755763, 15492.15517459,  9434.27194134,\n",
       "       35362.37605772,  7235.02590284, 17188.08176122,  9061.04781242,\n",
       "        8584.71696434,  2854.7868307 , 32335.32860831, 31210.53620626,\n",
       "       39598.01002179,  5149.0941514 ,  9795.94679706,  3853.19774202,\n",
       "        8062.09447759,  8247.00724961, 31779.10353006, 29973.54620025,\n",
       "       30058.22170115,  9329.70435227, 32840.2927927 ,  3084.20622075,\n",
       "        3347.00512712, 10955.74865474, 13515.3642212 , 12344.98600333,\n",
       "        5248.99810696, 15990.52780192, 15347.688607  ,  2253.50463349,\n",
       "        -216.11913467, 10466.012925  ,  6962.46383133, 31806.55179064,\n",
       "       11888.66160562,  2652.4331823 ,  6029.34261932,  8295.16298101,\n",
       "        4107.43512066,  2440.53355411, 11269.74048194, 12356.88141793,\n",
       "        6732.10989402, 16704.57597286, 11706.98688732, 14264.50592165,\n",
       "        2780.52868622,  6763.79676123, 23226.63801136,  7134.04534393,\n",
       "        4994.10806444,  5367.7781235 ,  6445.53298429,  4720.78789108,\n",
       "        9819.07366393,  5601.43612018,  5998.48769644,  7031.22923301,\n",
       "        3287.25480039,  5439.97611338, 37515.87812345,   929.11258146,\n",
       "       12474.78744303,  8761.10392596, 13514.89716756,  5668.50603772,\n",
       "        4803.55811932, 35874.01349884,  3759.85680281,  2302.13549594,\n",
       "       15025.74237359, 12219.89740051, 34427.44347197,  5190.85133282,\n",
       "        6008.61553204, 31534.39251474,  5783.78768064,  2371.57209056,\n",
       "        7956.01504726,  9510.18963241,  8288.71760188,  5543.12073747,\n",
       "       12703.81187429, 38696.43124668, 13583.69719915, 29035.69338171,\n",
       "        6503.62376443, 35708.06435694,  3306.87109439, 12254.78921892,\n",
       "        9418.15402097,  6350.21140256, 11115.25959413, 14113.63187985,\n",
       "        5018.61235393,  4595.57600181,  8186.94475119,  1601.02798806,\n",
       "        7435.77861346,  4026.42245976, 13496.83910402,  3971.6703689 ,\n",
       "       10317.00297593,  6878.39719956,  9595.82257204,  1921.44581852,\n",
       "       13522.28145638, 16570.03072738, 15361.71717186, 10985.907119  ,\n",
       "        5886.96387985,  2610.10915849,  2218.16865292, 12887.21105742,\n",
       "       14454.30821656,  4526.72409806,  4255.02775396,  9748.13003046,\n",
       "        9570.97124035, 27480.62040661,  7164.7212066 , 10170.52897273,\n",
       "        6600.43781156, 29322.19492157, 11363.0724969 ,  7080.36985642,\n",
       "       10063.90231648, 12038.25449793,  2519.67404486, 10600.0213962 ,\n",
       "        1056.54169486,  6626.59294363, 28676.70760617, 38880.16022976,\n",
       "        6564.98831561,  8383.6126497 ,  1946.88336847,   -77.41065243,\n",
       "       10791.34164243,  4414.22979667,  4795.04603556,  2824.75798269,\n",
       "        7444.35234044, 33582.29418279, 37582.05292604, 14656.28499525,\n",
       "        8060.12603432, 15527.94363533, 33041.58052999,  9129.26490077,\n",
       "       33684.77088895,  3595.51623614, 30003.2718008 ,  8391.10412411,\n",
       "       13765.51526034,  3928.13272866, 32371.39286322,  7852.80550494,\n",
       "       11629.67477197,  9654.9123777 ,  3927.34152429, 13094.79974353,\n",
       "       11618.39540313,  8164.99512323, 12885.26679242,  2251.89040904,\n",
       "       10062.28809202,  5737.82911695, 11363.6676394 , 31029.61958981,\n",
       "       10012.32925092,   715.60765306,   357.03468478, 39238.61403342,\n",
       "        9299.01238875,  6896.39926911, 13827.7028316 , 12992.11324885,\n",
       "       27372.1231076 ,  7521.40827808,  7185.94280081, 12413.41396761,\n",
       "        2620.44634264,  3990.78170434, 24524.02948058, 26268.27650559,\n",
       "       13532.51320255,  2764.21797899,  5205.11822691,  9739.93164579,\n",
       "       11981.88818262, 22955.99493916, 30475.82848109, 10348.15634387,\n",
       "       23715.60191261,  2631.69389576, 11598.02689711,  7649.69375468,\n",
       "        7867.56690595,   473.26896404,  7343.62863981, 35209.94051046,\n",
       "        5655.78844985,  5773.69447495,    69.63475497, 11018.11856123,\n",
       "        6826.23791576, 10205.73121522, 39182.07583452, 27374.02685287,\n",
       "       11068.05322406, 35563.81041291, 14587.30980505,  6625.62658066,\n",
       "       11159.85530868,  7150.49330485, 36420.47868696,  6162.12440764,\n",
       "       10744.75939553,  1166.8778209 , 24357.72199802,  1782.73733627,\n",
       "       34708.26076897, 11417.29108849,  1682.89829895, 31485.73572639,\n",
       "        7006.27399073,  5635.35241078, 38102.12312547,  2559.44493452,\n",
       "        9179.38189882,  2492.08396878, 13164.70904101,  1472.14256657,\n",
       "       11131.65156106,  7179.63596216, 35932.86238083,  7637.35631154,\n",
       "       30295.45016631, 29539.14877962,  7243.38091706, 10334.95972334,\n",
       "        1735.92592498,  2640.92028663,  3601.35686796, 12518.29198076,\n",
       "       37163.53662395, 10204.76812726,   771.15094828, 11041.42951096,\n",
       "        4824.8339599 , 10170.87273992,  5149.5222127 ,  7286.04870806,\n",
       "        4432.30570869, 28082.66070566,  4035.21926193,  -741.9944892 ,\n",
       "       33229.57581358, 13038.65650341, 36129.12334154, 10334.14478067,\n",
       "        7478.4601311 ,  -160.93898251,  2401.48330135, 11917.44829648,\n",
       "        6094.33865561,  2831.40378612, 11700.19926839,  8137.60523085,\n",
       "        7365.15020647,  5009.45240869,  2900.37897632, 32128.92608535,\n",
       "        3349.55261203,  9051.92577211,  4838.02905304, 12507.77071376,\n",
       "       15051.82213579,  7500.3343892 , 26863.05580228, 14370.22220892,\n",
       "       17442.54221504, 11952.89779244])"
      ]
     },
     "execution_count": 102,
     "metadata": {},
     "output_type": "execute_result"
    }
   ],
   "source": [
    "reg2.predict(xts)"
   ]
  },
  {
   "cell_type": "code",
   "execution_count": 104,
   "metadata": {},
   "outputs": [
    {
     "data": {
      "text/plain": [
       "0.7894790349867009"
      ]
     },
     "execution_count": 104,
     "metadata": {},
     "output_type": "execute_result"
    }
   ],
   "source": [
    "reg2.score(xts,yts)"
   ]
  },
  {
   "cell_type": "code",
   "execution_count": 107,
   "metadata": {},
   "outputs": [
    {
     "data": {
      "text/plain": [
       "['ins_predict2']"
      ]
     },
     "execution_count": 107,
     "metadata": {},
     "output_type": "execute_result"
    }
   ],
   "source": [
    "joblib.dump(reg3,\"ins_predict2\")"
   ]
  },
  {
   "cell_type": "code",
   "execution_count": 114,
   "metadata": {},
   "outputs": [
    {
     "data": {
      "text/plain": [
       "LogisticRegression(C=1.0, class_weight=None, dual=False, fit_intercept=True,\n",
       "                   intercept_scaling=1, l1_ratio=None, max_iter=100,\n",
       "                   multi_class='auto', n_jobs=None, penalty='l2',\n",
       "                   random_state=None, solver='lbfgs', tol=0.0001, verbose=0,\n",
       "                   warm_start=False)"
      ]
     },
     "execution_count": 114,
     "metadata": {},
     "output_type": "execute_result"
    }
   ],
   "source": [
    "reg4=LogisticRegression()\n",
    "reg4"
   ]
  },
  {
   "cell_type": "code",
   "execution_count": 112,
   "metadata": {},
   "outputs": [
    {
     "data": {
      "text/html": [
       "<div>\n",
       "<style scoped>\n",
       "    .dataframe tbody tr th:only-of-type {\n",
       "        vertical-align: middle;\n",
       "    }\n",
       "\n",
       "    .dataframe tbody tr th {\n",
       "        vertical-align: top;\n",
       "    }\n",
       "\n",
       "    .dataframe thead th {\n",
       "        text-align: right;\n",
       "    }\n",
       "</style>\n",
       "<table border=\"1\" class=\"dataframe\">\n",
       "  <thead>\n",
       "    <tr style=\"text-align: right;\">\n",
       "      <th></th>\n",
       "      <th>age</th>\n",
       "      <th>sex</th>\n",
       "      <th>bmi</th>\n",
       "      <th>children</th>\n",
       "      <th>smoker</th>\n",
       "      <th>region</th>\n",
       "      <th>charges</th>\n",
       "    </tr>\n",
       "  </thead>\n",
       "  <tbody>\n",
       "    <tr>\n",
       "      <th>0</th>\n",
       "      <td>19</td>\n",
       "      <td>1</td>\n",
       "      <td>27.900</td>\n",
       "      <td>0</td>\n",
       "      <td>1</td>\n",
       "      <td>southwest</td>\n",
       "      <td>16884.92400</td>\n",
       "    </tr>\n",
       "    <tr>\n",
       "      <th>1</th>\n",
       "      <td>18</td>\n",
       "      <td>0</td>\n",
       "      <td>33.770</td>\n",
       "      <td>1</td>\n",
       "      <td>0</td>\n",
       "      <td>southeast</td>\n",
       "      <td>1725.55230</td>\n",
       "    </tr>\n",
       "    <tr>\n",
       "      <th>2</th>\n",
       "      <td>28</td>\n",
       "      <td>0</td>\n",
       "      <td>33.000</td>\n",
       "      <td>3</td>\n",
       "      <td>0</td>\n",
       "      <td>southeast</td>\n",
       "      <td>4449.46200</td>\n",
       "    </tr>\n",
       "    <tr>\n",
       "      <th>3</th>\n",
       "      <td>33</td>\n",
       "      <td>0</td>\n",
       "      <td>22.705</td>\n",
       "      <td>0</td>\n",
       "      <td>0</td>\n",
       "      <td>northwest</td>\n",
       "      <td>21984.47061</td>\n",
       "    </tr>\n",
       "    <tr>\n",
       "      <th>4</th>\n",
       "      <td>32</td>\n",
       "      <td>0</td>\n",
       "      <td>28.880</td>\n",
       "      <td>0</td>\n",
       "      <td>0</td>\n",
       "      <td>northwest</td>\n",
       "      <td>3866.85520</td>\n",
       "    </tr>\n",
       "    <tr>\n",
       "      <th>...</th>\n",
       "      <td>...</td>\n",
       "      <td>...</td>\n",
       "      <td>...</td>\n",
       "      <td>...</td>\n",
       "      <td>...</td>\n",
       "      <td>...</td>\n",
       "      <td>...</td>\n",
       "    </tr>\n",
       "    <tr>\n",
       "      <th>1333</th>\n",
       "      <td>50</td>\n",
       "      <td>0</td>\n",
       "      <td>30.970</td>\n",
       "      <td>3</td>\n",
       "      <td>0</td>\n",
       "      <td>northwest</td>\n",
       "      <td>10600.54830</td>\n",
       "    </tr>\n",
       "    <tr>\n",
       "      <th>1334</th>\n",
       "      <td>18</td>\n",
       "      <td>1</td>\n",
       "      <td>31.920</td>\n",
       "      <td>0</td>\n",
       "      <td>0</td>\n",
       "      <td>northeast</td>\n",
       "      <td>2205.98080</td>\n",
       "    </tr>\n",
       "    <tr>\n",
       "      <th>1335</th>\n",
       "      <td>18</td>\n",
       "      <td>1</td>\n",
       "      <td>36.850</td>\n",
       "      <td>0</td>\n",
       "      <td>0</td>\n",
       "      <td>southeast</td>\n",
       "      <td>1629.83350</td>\n",
       "    </tr>\n",
       "    <tr>\n",
       "      <th>1336</th>\n",
       "      <td>21</td>\n",
       "      <td>1</td>\n",
       "      <td>25.800</td>\n",
       "      <td>0</td>\n",
       "      <td>0</td>\n",
       "      <td>southwest</td>\n",
       "      <td>2007.94500</td>\n",
       "    </tr>\n",
       "    <tr>\n",
       "      <th>1337</th>\n",
       "      <td>61</td>\n",
       "      <td>1</td>\n",
       "      <td>29.070</td>\n",
       "      <td>0</td>\n",
       "      <td>1</td>\n",
       "      <td>northwest</td>\n",
       "      <td>29141.36030</td>\n",
       "    </tr>\n",
       "  </tbody>\n",
       "</table>\n",
       "<p>1338 rows × 7 columns</p>\n",
       "</div>"
      ],
      "text/plain": [
       "      age sex     bmi  children smoker     region      charges\n",
       "0      19   1  27.900         0      1  southwest  16884.92400\n",
       "1      18   0  33.770         1      0  southeast   1725.55230\n",
       "2      28   0  33.000         3      0  southeast   4449.46200\n",
       "3      33   0  22.705         0      0  northwest  21984.47061\n",
       "4      32   0  28.880         0      0  northwest   3866.85520\n",
       "...   ...  ..     ...       ...    ...        ...          ...\n",
       "1333   50   0  30.970         3      0  northwest  10600.54830\n",
       "1334   18   1  31.920         0      0  northeast   2205.98080\n",
       "1335   18   1  36.850         0      0  southeast   1629.83350\n",
       "1336   21   1  25.800         0      0  southwest   2007.94500\n",
       "1337   61   1  29.070         0      1  northwest  29141.36030\n",
       "\n",
       "[1338 rows x 7 columns]"
      ]
     },
     "execution_count": 112,
     "metadata": {},
     "output_type": "execute_result"
    }
   ],
   "source": [
    "insdata"
   ]
  },
  {
   "cell_type": "code",
   "execution_count": 120,
   "metadata": {},
   "outputs": [
    {
     "ename": "TypeError",
     "evalue": "cannot convert the series to <class 'int'>",
     "output_type": "error",
     "traceback": [
      "\u001b[1;31m---------------------------------------------------------------------------\u001b[0m",
      "\u001b[1;31mTypeError\u001b[0m                                 Traceback (most recent call last)",
      "\u001b[1;32m<ipython-input-120-82a1c67b22b9>\u001b[0m in \u001b[0;36m<module>\u001b[1;34m\u001b[0m\n\u001b[0;32m      1\u001b[0m \u001b[0minsdata\u001b[0m\u001b[1;33m.\u001b[0m\u001b[0mage\u001b[0m\u001b[1;33m.\u001b[0m\u001b[0mfillna\u001b[0m\u001b[1;33m(\u001b[0m\u001b[1;36m18\u001b[0m\u001b[1;33m)\u001b[0m\u001b[1;33m\u001b[0m\u001b[1;33m\u001b[0m\u001b[0m\n\u001b[1;32m----> 2\u001b[1;33m \u001b[0minsdata\u001b[0m\u001b[1;33m.\u001b[0m\u001b[0msmoker\u001b[0m\u001b[1;33m=\u001b[0m\u001b[0mint\u001b[0m\u001b[1;33m(\u001b[0m\u001b[0minsdata\u001b[0m\u001b[1;33m.\u001b[0m\u001b[0msmoker\u001b[0m\u001b[1;33m)\u001b[0m\u001b[1;33m\u001b[0m\u001b[1;33m\u001b[0m\u001b[0m\n\u001b[0m\u001b[0;32m      3\u001b[0m \u001b[0mprint\u001b[0m\u001b[1;33m(\u001b[0m\u001b[0minsdata\u001b[0m\u001b[1;33m[\u001b[0m\u001b[1;34m'smoker'\u001b[0m\u001b[1;33m]\u001b[0m\u001b[1;33m)\u001b[0m\u001b[1;33m\u001b[0m\u001b[1;33m\u001b[0m\u001b[0m\n\u001b[0;32m      4\u001b[0m \u001b[0mreg4\u001b[0m\u001b[1;33m.\u001b[0m\u001b[0mfit\u001b[0m\u001b[1;33m(\u001b[0m\u001b[0minsdata\u001b[0m\u001b[1;33m[\u001b[0m\u001b[1;33m[\u001b[0m\u001b[1;34m'age'\u001b[0m\u001b[1;33m]\u001b[0m\u001b[1;33m]\u001b[0m\u001b[1;33m,\u001b[0m\u001b[0minsdata\u001b[0m\u001b[1;33m[\u001b[0m\u001b[1;34m'smoker'\u001b[0m\u001b[1;33m]\u001b[0m\u001b[1;33m)\u001b[0m\u001b[1;33m\u001b[0m\u001b[1;33m\u001b[0m\u001b[0m\n",
      "\u001b[1;32mc:\\users\\sys\\appdata\\local\\programs\\python\\python37-32\\lib\\site-packages\\pandas\\core\\series.py\u001b[0m in \u001b[0;36mwrapper\u001b[1;34m(self)\u001b[0m\n\u001b[0;32m    129\u001b[0m         \u001b[1;32mif\u001b[0m \u001b[0mlen\u001b[0m\u001b[1;33m(\u001b[0m\u001b[0mself\u001b[0m\u001b[1;33m)\u001b[0m \u001b[1;33m==\u001b[0m \u001b[1;36m1\u001b[0m\u001b[1;33m:\u001b[0m\u001b[1;33m\u001b[0m\u001b[1;33m\u001b[0m\u001b[0m\n\u001b[0;32m    130\u001b[0m             \u001b[1;32mreturn\u001b[0m \u001b[0mconverter\u001b[0m\u001b[1;33m(\u001b[0m\u001b[0mself\u001b[0m\u001b[1;33m.\u001b[0m\u001b[0miloc\u001b[0m\u001b[1;33m[\u001b[0m\u001b[1;36m0\u001b[0m\u001b[1;33m]\u001b[0m\u001b[1;33m)\u001b[0m\u001b[1;33m\u001b[0m\u001b[1;33m\u001b[0m\u001b[0m\n\u001b[1;32m--> 131\u001b[1;33m         \u001b[1;32mraise\u001b[0m \u001b[0mTypeError\u001b[0m\u001b[1;33m(\u001b[0m\u001b[1;34m\"cannot convert the series to \"\u001b[0m \u001b[1;34m\"{0}\"\u001b[0m\u001b[1;33m.\u001b[0m\u001b[0mformat\u001b[0m\u001b[1;33m(\u001b[0m\u001b[0mstr\u001b[0m\u001b[1;33m(\u001b[0m\u001b[0mconverter\u001b[0m\u001b[1;33m)\u001b[0m\u001b[1;33m)\u001b[0m\u001b[1;33m)\u001b[0m\u001b[1;33m\u001b[0m\u001b[1;33m\u001b[0m\u001b[0m\n\u001b[0m\u001b[0;32m    132\u001b[0m \u001b[1;33m\u001b[0m\u001b[0m\n\u001b[0;32m    133\u001b[0m     \u001b[0mwrapper\u001b[0m\u001b[1;33m.\u001b[0m\u001b[0m__name__\u001b[0m \u001b[1;33m=\u001b[0m \u001b[1;34m\"__{name}__\"\u001b[0m\u001b[1;33m.\u001b[0m\u001b[0mformat\u001b[0m\u001b[1;33m(\u001b[0m\u001b[0mname\u001b[0m\u001b[1;33m=\u001b[0m\u001b[0mconverter\u001b[0m\u001b[1;33m.\u001b[0m\u001b[0m__name__\u001b[0m\u001b[1;33m)\u001b[0m\u001b[1;33m\u001b[0m\u001b[1;33m\u001b[0m\u001b[0m\n",
      "\u001b[1;31mTypeError\u001b[0m: cannot convert the series to <class 'int'>"
     ]
    }
   ],
   "source": [
    "insdata.age.fillna(18)\n",
    "for i in range(0,len(insdata.smoker)):\n",
    "    insdata.smoker[i]=int(insdata.smoker[i])\n",
    "print(insdata['smoker'])\n",
    "reg4.fit(insdata[['age']],insdata['smoker'])"
   ]
  },
  {
   "cell_type": "code",
   "execution_count": null,
   "metadata": {},
   "outputs": [],
   "source": []
  },
  {
   "cell_type": "code",
   "execution_count": null,
   "metadata": {},
   "outputs": [],
   "source": []
  }
 ],
 "metadata": {
  "kernelspec": {
   "display_name": "Python 3",
   "language": "python",
   "name": "python3"
  },
  "language_info": {
   "codemirror_mode": {
    "name": "ipython",
    "version": 3
   },
   "file_extension": ".py",
   "mimetype": "text/x-python",
   "name": "python",
   "nbconvert_exporter": "python",
   "pygments_lexer": "ipython3",
   "version": "3.7.5"
  }
 },
 "nbformat": 4,
 "nbformat_minor": 4
}
