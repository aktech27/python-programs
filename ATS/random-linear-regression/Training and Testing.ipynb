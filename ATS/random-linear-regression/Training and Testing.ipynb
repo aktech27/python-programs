{
 "cells": [
  {
   "cell_type": "code",
   "execution_count": 1,
   "metadata": {},
   "outputs": [],
   "source": [
    "import pandas as pd\n",
    "import matplotlib.pyplot as plt\n",
    "from sklearn.linear_model import LinearRegression\n",
    "from sklearn.model_selection import train_test_split"
   ]
  },
  {
   "cell_type": "code",
   "execution_count": 2,
   "metadata": {},
   "outputs": [],
   "source": [
    "df=pd.read_csv('SimpleLinearRegression.csv')"
   ]
  },
  {
   "cell_type": "code",
   "execution_count": 3,
   "metadata": {},
   "outputs": [
    {
     "data": {
      "text/html": [
       "<div>\n",
       "<style scoped>\n",
       "    .dataframe tbody tr th:only-of-type {\n",
       "        vertical-align: middle;\n",
       "    }\n",
       "\n",
       "    .dataframe tbody tr th {\n",
       "        vertical-align: top;\n",
       "    }\n",
       "\n",
       "    .dataframe thead th {\n",
       "        text-align: right;\n",
       "    }\n",
       "</style>\n",
       "<table border=\"1\" class=\"dataframe\">\n",
       "  <thead>\n",
       "    <tr style=\"text-align: right;\">\n",
       "      <th></th>\n",
       "      <th>SAT</th>\n",
       "      <th>GPA</th>\n",
       "    </tr>\n",
       "  </thead>\n",
       "  <tbody>\n",
       "    <tr>\n",
       "      <th>0</th>\n",
       "      <td>1714</td>\n",
       "      <td>2.40</td>\n",
       "    </tr>\n",
       "    <tr>\n",
       "      <th>1</th>\n",
       "      <td>1664</td>\n",
       "      <td>2.52</td>\n",
       "    </tr>\n",
       "    <tr>\n",
       "      <th>2</th>\n",
       "      <td>1760</td>\n",
       "      <td>2.54</td>\n",
       "    </tr>\n",
       "    <tr>\n",
       "      <th>3</th>\n",
       "      <td>1685</td>\n",
       "      <td>2.74</td>\n",
       "    </tr>\n",
       "    <tr>\n",
       "      <th>4</th>\n",
       "      <td>1693</td>\n",
       "      <td>2.83</td>\n",
       "    </tr>\n",
       "    <tr>\n",
       "      <th>...</th>\n",
       "      <td>...</td>\n",
       "      <td>...</td>\n",
       "    </tr>\n",
       "    <tr>\n",
       "      <th>79</th>\n",
       "      <td>1936</td>\n",
       "      <td>3.71</td>\n",
       "    </tr>\n",
       "    <tr>\n",
       "      <th>80</th>\n",
       "      <td>1810</td>\n",
       "      <td>3.71</td>\n",
       "    </tr>\n",
       "    <tr>\n",
       "      <th>81</th>\n",
       "      <td>1987</td>\n",
       "      <td>3.73</td>\n",
       "    </tr>\n",
       "    <tr>\n",
       "      <th>82</th>\n",
       "      <td>1962</td>\n",
       "      <td>3.76</td>\n",
       "    </tr>\n",
       "    <tr>\n",
       "      <th>83</th>\n",
       "      <td>2050</td>\n",
       "      <td>3.81</td>\n",
       "    </tr>\n",
       "  </tbody>\n",
       "</table>\n",
       "<p>84 rows × 2 columns</p>\n",
       "</div>"
      ],
      "text/plain": [
       "     SAT   GPA\n",
       "0   1714  2.40\n",
       "1   1664  2.52\n",
       "2   1760  2.54\n",
       "3   1685  2.74\n",
       "4   1693  2.83\n",
       "..   ...   ...\n",
       "79  1936  3.71\n",
       "80  1810  3.71\n",
       "81  1987  3.73\n",
       "82  1962  3.76\n",
       "83  2050  3.81\n",
       "\n",
       "[84 rows x 2 columns]"
      ]
     },
     "execution_count": 3,
     "metadata": {},
     "output_type": "execute_result"
    }
   ],
   "source": [
    "df"
   ]
  },
  {
   "cell_type": "code",
   "execution_count": 4,
   "metadata": {},
   "outputs": [
    {
     "data": {
      "image/png": "[encoded data removed]",
      "text/plain": [
       "<Figure size 432x288 with 1 Axes>"
      ]
     },
     "metadata": {
      "needs_background": "light"
     },
     "output_type": "display_data"
    }
   ],
   "source": [
    "plt.scatter(df[df.columns[0]],df[df.columns[1]],marker='.')\n",
    "plt.show()"
   ]
  },
  {
   "cell_type": "code",
   "execution_count": 5,
   "metadata": {},
   "outputs": [],
   "source": [
    "reg1=LinearRegression()\n",
    "reg2=LinearRegression()\n",
    "reg3=LinearRegression()\n",
    "reg4=LinearRegression()"
   ]
  },
  {
   "cell_type": "code",
   "execution_count": 50,
   "metadata": {},
   "outputs": [],
   "source": [
    "xtrain1,xtest1,ytrain1,ytest1=train_test_split(df[[df.columns[0]]],df[df.columns[1]],test_size=0.3)\n",
    "xtrain2,xtest2,ytrain2,ytest2=train_test_split(df[[df.columns[0]]],df[df.columns[1]],test_size=0.3)\n",
    "xtrain3,xtest3,ytrain3,ytest3=train_test_split(df[[df.columns[0]]],df[df.columns[1]],test_size=0.3)\n",
    "xtrain4,xtest4,ytrain4,ytest4=train_test_split(df[[df.columns[0]]],df[df.columns[1]],test_size=0.3)"
   ]
  },
  {
   "cell_type": "code",
   "execution_count": 7,
   "metadata": {},
   "outputs": [
    {
     "name": "stdout",
     "output_type": "stream",
     "text": [
      "58\n",
      "26\n",
      "\n",
      "58\n",
      "26\n",
      "\n",
      "58\n",
      "26\n",
      "\n",
      "58\n",
      "26\n"
     ]
    }
   ],
   "source": [
    "print(len(xtrain1))\n",
    "print(len(xtest1))\n",
    "print()\n",
    "print(len(xtrain2))\n",
    "print(len(xtest2))\n",
    "print()\n",
    "print(len(xtrain3))\n",
    "print(len(xtest3))\n",
    "print()\n",
    "print(len(xtrain4))\n",
    "print(len(xtest4))\n"
   ]
  },
  {
   "cell_type": "code",
   "execution_count": 51,
   "metadata": {},
   "outputs": [
    {
     "data": {
      "text/plain": [
       "LinearRegression(copy_X=True, fit_intercept=True, n_jobs=None, normalize=False)"
      ]
     },
     "execution_count": 51,
     "metadata": {},
     "output_type": "execute_result"
    }
   ],
   "source": [
    "reg1.fit(xtrain1,ytrain1)\n",
    "reg2.fit(xtrain2,ytrain2)\n",
    "reg3.fit(xtrain3,ytrain3)\n",
    "reg4.fit(xtrain4,ytrain4)"
   ]
  },
  {
   "cell_type": "code",
   "execution_count": 62,
   "metadata": {},
   "outputs": [
    {
     "name": "stdout",
     "output_type": "stream",
     "text": [
      "[3.29612794 3.58396825 3.37162704 3.248941   3.06805774 3.34803357\n",
      " 3.48644858 3.52105234 3.48802148 3.3228672  3.20647276 3.3244401\n",
      " 3.33545039 3.59183274 3.39207471 3.54464581 3.45184483 3.34174198\n",
      " 3.26152418 3.39207471 3.03188109 3.33230459 3.18917088 3.23635782\n",
      " 3.55565609 3.21591015]\n",
      "\n",
      "[3.22373204 3.41189746 3.34447152 3.64396815 3.29899821 3.54674935\n",
      " 3.65808055 3.16414632 3.35544784 3.40876137 3.52322867 3.47461927\n",
      " 3.47618731 3.56399784 3.51068431 3.27861362 3.06849557 3.27861362\n",
      " 3.19550723 3.2362764  3.2049155  3.25666099 3.05281512 3.3679922\n",
      " 3.40248919 3.08574407]\n",
      "\n",
      "[3.06127228 3.5908765  3.45847545 3.44954953 3.09548828 3.25169178\n",
      " 3.29929665 3.30227196 3.22640169 3.19664864 3.09251298 3.34541387\n",
      " 3.59236416 3.52393215 3.33648796 3.58343824 3.29483369 3.4912038\n",
      " 3.1668956  3.46293841 3.32756205 3.51054328 3.50459267 3.40194466\n",
      " 3.01664271 3.32607439]\n",
      "\n",
      "[3.37713278 3.65167301 3.28881914 3.28497942 3.34449513 3.34833486\n",
      " 3.18706647 3.19666578 3.15250896 3.55759979 3.08915352 3.03347753\n",
      " 2.98932071 3.60367647 3.25810136 3.33297596 2.97588168 3.53264158\n",
      " 3.34449513 2.92020569 3.36369375 3.21202467 3.11411173 3.44432794\n",
      " 3.31953693 3.49616421]\n"
     ]
    }
   ],
   "source": [
    "print(reg1.predict(xtest1))\n",
    "print()\n",
    "print(reg2.predict(xtest2))\n",
    "print()\n",
    "print(reg3.predict(xtest3))\n",
    "print()\n",
    "print(reg4.predict(xtest4))"
   ]
  },
  {
   "cell_type": "code",
   "execution_count": 63,
   "metadata": {},
   "outputs": [
    {
     "name": "stdout",
     "output_type": "stream",
     "text": [
      "0.4351330505734717\n",
      "0.5693089408550029\n",
      "0.5373515389095712\n",
      "0.06307407686850797\n"
     ]
    }
   ],
   "source": [
    "print(reg1.score(xtest1,ytest1))\n",
    "print(reg2.score(xtest2,ytest2))\n",
    "print(reg3.score(xtest3,ytest3))\n",
    "print(reg4.score(xtest4,ytest4))"
   ]
  },
  {
   "cell_type": "code",
   "execution_count": 36,
   "metadata": {},
   "outputs": [],
   "source": [
    "dfx=pd.read_csv('sample.csv')"
   ]
  },
  {
   "cell_type": "code",
   "execution_count": 37,
   "metadata": {},
   "outputs": [],
   "source": [
    "regx=LinearRegression()"
   ]
  },
  {
   "cell_type": "code",
   "execution_count": 39,
   "metadata": {},
   "outputs": [
    {
     "data": {
      "text/plain": [
       "LinearRegression(copy_X=True, fit_intercept=True, n_jobs=None, normalize=False)"
      ]
     },
     "execution_count": 39,
     "metadata": {},
     "output_type": "execute_result"
    }
   ],
   "source": [
    "regx.fit(dfx[['X']],dfx['Y'])"
   ]
  },
  {
   "cell_type": "code",
   "execution_count": 44,
   "metadata": {},
   "outputs": [
    {
     "data": {
      "image/png": "[encoded data removed]",
      "text/plain": [
       "<Figure size 432x288 with 1 Axes>"
      ]
     },
     "metadata": {
      "needs_background": "light"
     },
     "output_type": "display_data"
    }
   ],
   "source": [
    "plt.plot(dfx['X'],dfx['Y'])\n",
    "plt.scatter(dfx['X'],dfx['Y'],marker='.',color='k')\n",
    "plt.show()"
   ]
  },
  {
   "cell_type": "code",
   "execution_count": 45,
   "metadata": {},
   "outputs": [
    {
     "name": "stdout",
     "output_type": "stream",
     "text": [
      "1.0\n",
      "100.0 %\n"
     ]
    }
   ],
   "source": [
    "a,b,c,d=train_test_split(dfx[['X']],dfx['Y'],test_size=0.3)\n",
    "regx.fit(a,c)\n",
    "regx.predict(b)\n",
    "print(regx.score(b,d))\n",
    "print(regx.score(b,d)*100,'%')"
   ]
  }
 ],
 "metadata": {
  "kernelspec": {
   "display_name": "Python 3",
   "language": "python",
   "name": "python3"
  },
  "language_info": {
   "codemirror_mode": {
    "name": "ipython",
    "version": 3
   },
   "file_extension": ".py",
   "mimetype": "text/x-python",
   "name": "python",
   "nbconvert_exporter": "python",
   "pygments_lexer": "ipython3",
   "version": "3.7.5"
  }
 },
 "nbformat": 4,
 "nbformat_minor": 4
}
